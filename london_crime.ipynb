{
 "cells": [
  {
   "cell_type": "markdown",
   "metadata": {},
   "source": [
    "# London Crime"
   ]
  },
  {
   "cell_type": "markdown",
   "metadata": {},
   "source": [
    "In this notebook I will explore the past decade of all recorded crime in London, I will look for any trends in crime and vizualise the most at risk London boroughs by crime type.\n",
    "\n",
    "The data for this exploration can be found on the opensource London Datastore: https://data.london.gov.uk/dataset/mps-monthly-crime-dahboard-data"
   ]
  },
  {
   "cell_type": "markdown",
   "metadata": {},
   "source": [
    "## Imports"
   ]
  },
  {
   "cell_type": "code",
   "execution_count": 1,
   "metadata": {},
   "outputs": [],
   "source": [
    "import pandas as pd\n",
    "import numpy as np\n",
    "import matplotlib.pyplot as plt"
   ]
  },
  {
   "cell_type": "markdown",
   "metadata": {},
   "source": [
    "## Load Data"
   ]
  },
  {
   "cell_type": "code",
   "execution_count": 14,
   "metadata": {},
   "outputs": [],
   "source": [
    "df_offs = pd.read_csv('data/Monthly Crime New Cats Borough Level Offs Type.csv')\n",
    "df_SDs = pd.read_csv('data/Monthly Crime New Cats Borough Level SDs Type.csv')"
   ]
  },
  {
   "cell_type": "markdown",
   "metadata": {},
   "source": [
    "## Initial Exploration"
   ]
  },
  {
   "cell_type": "markdown",
   "metadata": {},
   "source": [
    "We have two datasets that hold information relating to all recorded offenses and sanction detections within each borough of London dating from 2012 to the present day.\n",
    "\n",
    "Sanction detections can be defined as offenses that have been brought to justice, they are defined as 'offences that are cleared up through a formal sanction to the offender'.\n",
    "\n",
    "Both datasets contain statistics related to various categories and sub-categories of crime.\n",
    "\n",
    "We can begin to analyze trending rates of various crimes in each borough of London, we can also look into trends relating to the proportion of detected crimes."
   ]
  },
  {
   "cell_type": "code",
   "execution_count": 165,
   "metadata": {},
   "outputs": [
    {
     "data": {
      "text/plain": [
       "(0, 0)"
      ]
     },
     "execution_count": 165,
     "metadata": {},
     "output_type": "execute_result"
    }
   ],
   "source": [
    "df_offs.isna().sum().sum(), df_SDs.isna().sum().sum()"
   ]
  },
  {
   "cell_type": "markdown",
   "metadata": {},
   "source": [
    "We have no null values in either dataset"
   ]
  },
  {
   "cell_type": "code",
   "execution_count": 15,
   "metadata": {},
   "outputs": [
    {
     "data": {
      "text/plain": [
       "((1848, 131), (1848, 131))"
      ]
     },
     "execution_count": 15,
     "metadata": {},
     "output_type": "execute_result"
    }
   ],
   "source": [
    "df_offs.shape, df_SDs.shape"
   ]
  },
  {
   "cell_type": "markdown",
   "metadata": {},
   "source": [
    "Both datasets are of the same shape"
   ]
  },
  {
   "cell_type": "code",
   "execution_count": 296,
   "metadata": {},
   "outputs": [
    {
     "data": {
      "text/html": [
       "<div>\n",
       "<style scoped>\n",
       "    .dataframe tbody tr th:only-of-type {\n",
       "        vertical-align: middle;\n",
       "    }\n",
       "\n",
       "    .dataframe tbody tr th {\n",
       "        vertical-align: top;\n",
       "    }\n",
       "\n",
       "    .dataframe thead th {\n",
       "        text-align: right;\n",
       "    }\n",
       "</style>\n",
       "<table border=\"1\" class=\"dataframe\">\n",
       "  <thead>\n",
       "    <tr style=\"text-align: right;\">\n",
       "      <th></th>\n",
       "      <th>Borough</th>\n",
       "      <th>MajorText</th>\n",
       "      <th>MinorText</th>\n",
       "      <th>201201</th>\n",
       "      <th>201202</th>\n",
       "      <th>201203</th>\n",
       "      <th>201204</th>\n",
       "      <th>201205</th>\n",
       "      <th>201206</th>\n",
       "      <th>201207</th>\n",
       "      <th>...</th>\n",
       "      <th>202111</th>\n",
       "      <th>202112</th>\n",
       "      <th>202201</th>\n",
       "      <th>202202</th>\n",
       "      <th>202203</th>\n",
       "      <th>202204</th>\n",
       "      <th>202205</th>\n",
       "      <th>202206</th>\n",
       "      <th>202207</th>\n",
       "      <th>202208</th>\n",
       "    </tr>\n",
       "  </thead>\n",
       "  <tbody>\n",
       "    <tr>\n",
       "      <th>0</th>\n",
       "      <td>Aviation Security(SO18)</td>\n",
       "      <td>Miscellaneous Crimes Against Society</td>\n",
       "      <td>Absconding from Lawful Custody</td>\n",
       "      <td>0</td>\n",
       "      <td>0</td>\n",
       "      <td>0</td>\n",
       "      <td>0</td>\n",
       "      <td>0</td>\n",
       "      <td>0</td>\n",
       "      <td>0</td>\n",
       "      <td>...</td>\n",
       "      <td>0</td>\n",
       "      <td>0</td>\n",
       "      <td>0</td>\n",
       "      <td>0</td>\n",
       "      <td>0</td>\n",
       "      <td>0</td>\n",
       "      <td>0</td>\n",
       "      <td>0</td>\n",
       "      <td>0</td>\n",
       "      <td>0</td>\n",
       "    </tr>\n",
       "    <tr>\n",
       "      <th>1</th>\n",
       "      <td>Barking and Dagenham</td>\n",
       "      <td>Miscellaneous Crimes Against Society</td>\n",
       "      <td>Absconding from Lawful Custody</td>\n",
       "      <td>0</td>\n",
       "      <td>0</td>\n",
       "      <td>0</td>\n",
       "      <td>0</td>\n",
       "      <td>0</td>\n",
       "      <td>0</td>\n",
       "      <td>0</td>\n",
       "      <td>...</td>\n",
       "      <td>0</td>\n",
       "      <td>0</td>\n",
       "      <td>0</td>\n",
       "      <td>0</td>\n",
       "      <td>0</td>\n",
       "      <td>0</td>\n",
       "      <td>0</td>\n",
       "      <td>0</td>\n",
       "      <td>0</td>\n",
       "      <td>0</td>\n",
       "    </tr>\n",
       "  </tbody>\n",
       "</table>\n",
       "<p>2 rows × 131 columns</p>\n",
       "</div>"
      ],
      "text/plain": [
       "                   Borough                             MajorText  \\\n",
       "0  Aviation Security(SO18)  Miscellaneous Crimes Against Society   \n",
       "1     Barking and Dagenham  Miscellaneous Crimes Against Society   \n",
       "\n",
       "                        MinorText  201201  201202  201203  201204  201205  \\\n",
       "0  Absconding from Lawful Custody       0       0       0       0       0   \n",
       "1  Absconding from Lawful Custody       0       0       0       0       0   \n",
       "\n",
       "   201206  201207  ...  202111  202112  202201  202202  202203  202204  \\\n",
       "0       0       0  ...       0       0       0       0       0       0   \n",
       "1       0       0  ...       0       0       0       0       0       0   \n",
       "\n",
       "   202205  202206  202207  202208  \n",
       "0       0       0       0       0  \n",
       "1       0       0       0       0  \n",
       "\n",
       "[2 rows x 131 columns]"
      ]
     },
     "execution_count": 296,
     "metadata": {},
     "output_type": "execute_result"
    }
   ],
   "source": [
    "df_offs.head(2)"
   ]
  },
  {
   "cell_type": "code",
   "execution_count": 297,
   "metadata": {},
   "outputs": [
    {
     "data": {
      "text/html": [
       "<div>\n",
       "<style scoped>\n",
       "    .dataframe tbody tr th:only-of-type {\n",
       "        vertical-align: middle;\n",
       "    }\n",
       "\n",
       "    .dataframe tbody tr th {\n",
       "        vertical-align: top;\n",
       "    }\n",
       "\n",
       "    .dataframe thead th {\n",
       "        text-align: right;\n",
       "    }\n",
       "</style>\n",
       "<table border=\"1\" class=\"dataframe\">\n",
       "  <thead>\n",
       "    <tr style=\"text-align: right;\">\n",
       "      <th></th>\n",
       "      <th>Borough</th>\n",
       "      <th>MajorText</th>\n",
       "      <th>MinorText</th>\n",
       "      <th>201201</th>\n",
       "      <th>201202</th>\n",
       "      <th>201203</th>\n",
       "      <th>201204</th>\n",
       "      <th>201205</th>\n",
       "      <th>201206</th>\n",
       "      <th>201207</th>\n",
       "      <th>...</th>\n",
       "      <th>202111</th>\n",
       "      <th>202112</th>\n",
       "      <th>202201</th>\n",
       "      <th>202202</th>\n",
       "      <th>202203</th>\n",
       "      <th>202204</th>\n",
       "      <th>202205</th>\n",
       "      <th>202206</th>\n",
       "      <th>202207</th>\n",
       "      <th>202208</th>\n",
       "    </tr>\n",
       "  </thead>\n",
       "  <tbody>\n",
       "    <tr>\n",
       "      <th>0</th>\n",
       "      <td>Aviation Security(SO18)</td>\n",
       "      <td>Miscellaneous Crimes Against Society</td>\n",
       "      <td>Absconding from Lawful Custody</td>\n",
       "      <td>0</td>\n",
       "      <td>0</td>\n",
       "      <td>0</td>\n",
       "      <td>0</td>\n",
       "      <td>0</td>\n",
       "      <td>0</td>\n",
       "      <td>0</td>\n",
       "      <td>...</td>\n",
       "      <td>0</td>\n",
       "      <td>0</td>\n",
       "      <td>0</td>\n",
       "      <td>0</td>\n",
       "      <td>0</td>\n",
       "      <td>0</td>\n",
       "      <td>0</td>\n",
       "      <td>0</td>\n",
       "      <td>0</td>\n",
       "      <td>0</td>\n",
       "    </tr>\n",
       "    <tr>\n",
       "      <th>1</th>\n",
       "      <td>Barking and Dagenham</td>\n",
       "      <td>Miscellaneous Crimes Against Society</td>\n",
       "      <td>Absconding from Lawful Custody</td>\n",
       "      <td>0</td>\n",
       "      <td>0</td>\n",
       "      <td>0</td>\n",
       "      <td>0</td>\n",
       "      <td>0</td>\n",
       "      <td>0</td>\n",
       "      <td>0</td>\n",
       "      <td>...</td>\n",
       "      <td>0</td>\n",
       "      <td>0</td>\n",
       "      <td>0</td>\n",
       "      <td>0</td>\n",
       "      <td>0</td>\n",
       "      <td>0</td>\n",
       "      <td>0</td>\n",
       "      <td>0</td>\n",
       "      <td>0</td>\n",
       "      <td>0</td>\n",
       "    </tr>\n",
       "  </tbody>\n",
       "</table>\n",
       "<p>2 rows × 131 columns</p>\n",
       "</div>"
      ],
      "text/plain": [
       "                   Borough                             MajorText  \\\n",
       "0  Aviation Security(SO18)  Miscellaneous Crimes Against Society   \n",
       "1     Barking and Dagenham  Miscellaneous Crimes Against Society   \n",
       "\n",
       "                        MinorText  201201  201202  201203  201204  201205  \\\n",
       "0  Absconding from Lawful Custody       0       0       0       0       0   \n",
       "1  Absconding from Lawful Custody       0       0       0       0       0   \n",
       "\n",
       "   201206  201207  ...  202111  202112  202201  202202  202203  202204  \\\n",
       "0       0       0  ...       0       0       0       0       0       0   \n",
       "1       0       0  ...       0       0       0       0       0       0   \n",
       "\n",
       "   202205  202206  202207  202208  \n",
       "0       0       0       0       0  \n",
       "1       0       0       0       0  \n",
       "\n",
       "[2 rows x 131 columns]"
      ]
     },
     "execution_count": 297,
     "metadata": {},
     "output_type": "execute_result"
    }
   ],
   "source": [
    "df_SDs.head(2)"
   ]
  },
  {
   "cell_type": "code",
   "execution_count": 169,
   "metadata": {},
   "outputs": [
    {
     "data": {
      "text/plain": [
       "True"
      ]
     },
     "execution_count": 169,
     "metadata": {},
     "output_type": "execute_result"
    }
   ],
   "source": [
    "# Confirmation that both datasets have identical data structures\n",
    "\n",
    "(df_SDs.columns == df_offs.columns).all() & (df_SDs.index == df_offs.index).all() "
   ]
  },
  {
   "cell_type": "markdown",
   "metadata": {},
   "source": [
    "I am going to start by pivoting and transposing these tables to make the data simpler to access and understand at each level (borough, crime & sub-crime). Dates will be indexed as datetime objects for time-series analysis"
   ]
  },
  {
   "cell_type": "code",
   "execution_count": 267,
   "metadata": {},
   "outputs": [],
   "source": [
    "df_SDs_pivot = df_SDs.pivot_table(index=['Borough','MajorText','MinorText'])\n",
    "df_offs_pivot = df_offs.pivot_table(index=['Borough','MajorText','MinorText'])\n",
    "\n",
    "df_SDs_pivot_transpose = df_SDs_pivot.T\n",
    "df_offs_pivot_transpose = df_offs_pivot.T\n",
    "df_SDs_pivot_transpose.index = pd.to_datetime(df_SDs_pivot_transpose.index, format='%Y%m').to_period('m')\n",
    "df_offs_pivot_transpose.index = pd.to_datetime(df_offs_pivot_transpose.index, format='%Y%m').to_period('m')"
   ]
  },
  {
   "cell_type": "code",
   "execution_count": 251,
   "metadata": {},
   "outputs": [
    {
     "data": {
      "text/html": [
       "<div>\n",
       "<style scoped>\n",
       "    .dataframe tbody tr th:only-of-type {\n",
       "        vertical-align: middle;\n",
       "    }\n",
       "\n",
       "    .dataframe tbody tr th {\n",
       "        vertical-align: top;\n",
       "    }\n",
       "\n",
       "    .dataframe thead tr th {\n",
       "        text-align: left;\n",
       "    }\n",
       "</style>\n",
       "<table border=\"1\" class=\"dataframe\">\n",
       "  <thead>\n",
       "    <tr>\n",
       "      <th>Borough</th>\n",
       "      <th colspan=\"10\" halign=\"left\">Aviation Security(SO18)</th>\n",
       "      <th>...</th>\n",
       "      <th colspan=\"10\" halign=\"left\">Westminster</th>\n",
       "    </tr>\n",
       "    <tr>\n",
       "      <th>MajorText</th>\n",
       "      <th colspan=\"2\" halign=\"left\">Arson and Criminal Damage</th>\n",
       "      <th colspan=\"2\" halign=\"left\">Burglary</th>\n",
       "      <th colspan=\"2\" halign=\"left\">Drug Offences</th>\n",
       "      <th>Historical Fraud and Forgery</th>\n",
       "      <th colspan=\"3\" halign=\"left\">Miscellaneous Crimes Against Society</th>\n",
       "      <th>...</th>\n",
       "      <th colspan=\"3\" halign=\"left\">Theft</th>\n",
       "      <th colspan=\"4\" halign=\"left\">Vehicle Offences</th>\n",
       "      <th colspan=\"3\" halign=\"left\">Violence Against the Person</th>\n",
       "    </tr>\n",
       "    <tr>\n",
       "      <th>MinorText</th>\n",
       "      <th>Arson</th>\n",
       "      <th>Criminal Damage</th>\n",
       "      <th>Burglary - Business and Community</th>\n",
       "      <th>Burglary - Residential</th>\n",
       "      <th>Drug Trafficking</th>\n",
       "      <th>Possession of  Drugs</th>\n",
       "      <th>Historical Fraud and Forgery</th>\n",
       "      <th>Absconding from Lawful Custody</th>\n",
       "      <th>Aiding Suicide</th>\n",
       "      <th>Bail Offences</th>\n",
       "      <th>...</th>\n",
       "      <th>Other Theft</th>\n",
       "      <th>Shoplifting</th>\n",
       "      <th>Theft from Person</th>\n",
       "      <th>Aggravated Vehicle Taking</th>\n",
       "      <th>Interfering with a Motor Vehicle</th>\n",
       "      <th>Theft from a Motor Vehicle</th>\n",
       "      <th>Theft or Taking of a Motor Vehicle</th>\n",
       "      <th>Homicide</th>\n",
       "      <th>Violence with Injury</th>\n",
       "      <th>Violence without Injury</th>\n",
       "    </tr>\n",
       "  </thead>\n",
       "  <tbody>\n",
       "    <tr>\n",
       "      <th>2012-01</th>\n",
       "      <td>0</td>\n",
       "      <td>4</td>\n",
       "      <td>0</td>\n",
       "      <td>0</td>\n",
       "      <td>0</td>\n",
       "      <td>12</td>\n",
       "      <td>18</td>\n",
       "      <td>0</td>\n",
       "      <td>0</td>\n",
       "      <td>0</td>\n",
       "      <td>...</td>\n",
       "      <td>1843</td>\n",
       "      <td>337</td>\n",
       "      <td>842</td>\n",
       "      <td>0</td>\n",
       "      <td>8</td>\n",
       "      <td>176</td>\n",
       "      <td>52</td>\n",
       "      <td>0</td>\n",
       "      <td>271</td>\n",
       "      <td>271</td>\n",
       "    </tr>\n",
       "    <tr>\n",
       "      <th>2012-02</th>\n",
       "      <td>0</td>\n",
       "      <td>6</td>\n",
       "      <td>0</td>\n",
       "      <td>0</td>\n",
       "      <td>1</td>\n",
       "      <td>10</td>\n",
       "      <td>12</td>\n",
       "      <td>0</td>\n",
       "      <td>0</td>\n",
       "      <td>0</td>\n",
       "      <td>...</td>\n",
       "      <td>1578</td>\n",
       "      <td>335</td>\n",
       "      <td>672</td>\n",
       "      <td>0</td>\n",
       "      <td>4</td>\n",
       "      <td>129</td>\n",
       "      <td>19</td>\n",
       "      <td>0</td>\n",
       "      <td>211</td>\n",
       "      <td>287</td>\n",
       "    </tr>\n",
       "  </tbody>\n",
       "</table>\n",
       "<p>2 rows × 1848 columns</p>\n",
       "</div>"
      ],
      "text/plain": [
       "Borough     Aviation Security(SO18)                  \\\n",
       "MajorText Arson and Criminal Damage                   \n",
       "MinorText                     Arson Criminal Damage   \n",
       "2012-01                           0               4   \n",
       "2012-02                           0               6   \n",
       "\n",
       "Borough                                                             \\\n",
       "MajorText                          Burglary                          \n",
       "MinorText Burglary - Business and Community Burglary - Residential   \n",
       "2012-01                                   0                      0   \n",
       "2012-02                                   0                      0   \n",
       "\n",
       "Borough                                                                       \\\n",
       "MajorText    Drug Offences                      Historical Fraud and Forgery   \n",
       "MinorText Drug Trafficking Possession of  Drugs Historical Fraud and Forgery   \n",
       "2012-01                  0                   12                           18   \n",
       "2012-02                  1                   10                           12   \n",
       "\n",
       "Borough                                                                      \\\n",
       "MajorText Miscellaneous Crimes Against Society                                \n",
       "MinorText       Absconding from Lawful Custody Aiding Suicide Bail Offences   \n",
       "2012-01                                      0              0             0   \n",
       "2012-02                                      0              0             0   \n",
       "\n",
       "Borough    ... Westminster                                \\\n",
       "MajorText  ...       Theft                                 \n",
       "MinorText  ... Other Theft Shoplifting Theft from Person   \n",
       "2012-01    ...        1843         337               842   \n",
       "2012-02    ...        1578         335               672   \n",
       "\n",
       "Borough                                                               \\\n",
       "MajorText          Vehicle Offences                                    \n",
       "MinorText Aggravated Vehicle Taking Interfering with a Motor Vehicle   \n",
       "2012-01                           0                                8   \n",
       "2012-02                           0                                4   \n",
       "\n",
       "Borough                                                                  \\\n",
       "MajorText                                                                 \n",
       "MinorText Theft from a Motor Vehicle Theft or Taking of a Motor Vehicle   \n",
       "2012-01                          176                                 52   \n",
       "2012-02                          129                                 19   \n",
       "\n",
       "Borough                                                     \\\n",
       "MajorText Violence Against the Person                        \n",
       "MinorText                    Homicide Violence with Injury   \n",
       "2012-01                             0                  271   \n",
       "2012-02                             0                  211   \n",
       "\n",
       "Borough                            \n",
       "MajorText                          \n",
       "MinorText Violence without Injury  \n",
       "2012-01                       271  \n",
       "2012-02                       287  \n",
       "\n",
       "[2 rows x 1848 columns]"
      ]
     },
     "execution_count": 251,
     "metadata": {},
     "output_type": "execute_result"
    }
   ],
   "source": [
    "df_offs_pivot_transpose.head(2)"
   ]
  },
  {
   "cell_type": "markdown",
   "metadata": {},
   "source": [
    "Now, lets begin to look at our boroughs and the different categories of crimes recorded"
   ]
  },
  {
   "cell_type": "code",
   "execution_count": 295,
   "metadata": {},
   "outputs": [
    {
     "data": {
      "text/plain": [
       "MajorText                             MinorText                                                        \n",
       "Arson and Criminal Damage             Arson                                                                   441\n",
       "                                      Criminal Damage                                                       22759\n",
       "Burglary                              Burglary - Business and Community                                     20809\n",
       "                                      Burglary - Residential                                                16667\n",
       "Drug Offences                         Drug Trafficking                                                       2088\n",
       "                                      Possession of  Drugs                                                  31241\n",
       "Historical Fraud and Forgery          Historical Fraud and Forgery                                           2567\n",
       "Miscellaneous Crimes Against Society  Absconding from Lawful Custody                                           11\n",
       "                                      Aiding Suicide                                                            0\n",
       "                                      Bail Offences                                                            23\n",
       "                                      Bigamy                                                                    7\n",
       "                                      Concealing an Infant Death Close to Birth                                 0\n",
       "                                      Dangerous Driving                                                       115\n",
       "                                      Disclosure, Obstruction, False or Misleading Statements etc.             34\n",
       "                                      Exploitation of Prostitution                                             35\n",
       "                                      Forgery or Use of Drug Prescription                                      39\n",
       "                                      Fraud or Forgery Associated with Driver Records                          19\n",
       "                                      Going Equipped for Stealing                                             363\n",
       "                                      Handling Stolen Goods                                                   609\n",
       "                                      Making, Supplying or Possessing Articles for use in Fraud               969\n",
       "                                      Obscene Publications                                                   1045\n",
       "                                      Offender Management Act                                                   1\n",
       "                                      Other Forgery                                                           488\n",
       "                                      Other Notifiable Offences                                               313\n",
       "                                      Perjury                                                                  22\n",
       "                                      Perverting Course of Justice                                            278\n",
       "                                      Possession of False Documents                                           274\n",
       "                                      Profitting From or Concealing Proceeds of Crime                         354\n",
       "                                      Soliciting for Prostitution                                               7\n",
       "                                      Threat or Possession With Intent to Commit Criminal Damage              434\n",
       "                                      Wildlife Crime                                                            9\n",
       "Possession of Weapons                 Other Firearm Offences                                                   20\n",
       "                                      Other Knife Offences                                                      0\n",
       "                                      Possession of  Firearm with Intent                                       92\n",
       "                                      Possession of  Firearms Offences                                        721\n",
       "                                      Possession of  Other Weapon                                            1250\n",
       "                                      Possession of Article with Blade or Point                              1601\n",
       "Public Order Offences                 Other Offences Against the State, or Public Order                      3825\n",
       "                                      Public Fear Alarm or Distress                                         18421\n",
       "                                      Racially or Religiously Aggravated Public Fear, Alarm or Distress      6566\n",
       "                                      Violent Disorder                                                        112\n",
       "Robbery                               Robbery of Business Property                                           1181\n",
       "                                      Robbery of Personal Property                                          25395\n",
       "Sexual Offences                       Other Sexual Offences                                                  6966\n",
       "                                      Rape                                                                   3558\n",
       "Theft                                 Bicycle Theft                                                         14686\n",
       "                                      Other Theft                                                          160400\n",
       "                                      Shoplifting                                                           41552\n",
       "                                      Theft from Person                                                     96572\n",
       "Vehicle Offences                      Aggravated Vehicle Taking                                               185\n",
       "                                      Interfering with a Motor Vehicle                                       3736\n",
       "                                      Theft from a Motor Vehicle                                            29104\n",
       "                                      Theft or Taking of a Motor Vehicle                                     7882\n",
       "Violence Against the Person           Homicide                                                                 53\n",
       "                                      Violence with Injury                                                  36156\n",
       "                                      Violence without Injury                                               57352\n",
       "dtype: int64"
      ]
     },
     "execution_count": 295,
     "metadata": {},
     "output_type": "execute_result"
    }
   ],
   "source": [
    "df_offs_pivot_transpose.loc[:,'Westminster'].sum()"
   ]
  },
  {
   "cell_type": "code",
   "execution_count": null,
   "metadata": {},
   "outputs": [],
   "source": []
  }
 ],
 "metadata": {
  "kernelspec": {
   "display_name": "Python 3.8.12 64-bit ('shims')",
   "language": "python",
   "name": "python3"
  },
  "language_info": {
   "codemirror_mode": {
    "name": "ipython",
    "version": 3
   },
   "file_extension": ".py",
   "mimetype": "text/x-python",
   "name": "python",
   "nbconvert_exporter": "python",
   "pygments_lexer": "ipython3",
   "version": "3.8.12"
  },
  "orig_nbformat": 4,
  "vscode": {
   "interpreter": {
    "hash": "198e416f512657ccf959586bf2e83e4477516fd9d7ab2dbf6db3fbe2c6ca27e7"
   }
  }
 },
 "nbformat": 4,
 "nbformat_minor": 2
}
